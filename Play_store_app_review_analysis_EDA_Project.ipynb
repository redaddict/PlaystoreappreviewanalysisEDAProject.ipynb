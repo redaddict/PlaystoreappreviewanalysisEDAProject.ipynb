{
  "nbformat": 4,
  "nbformat_minor": 0,
  "metadata": {
    "colab": {
      "private_outputs": true,
      "provenance": [],
      "collapsed_sections": [
        "GF8Ens_Soomf",
        "0wOQAZs5pc--",
        "K5QZ13OEpz2H",
        "lQ7QKXXCp7Bj",
        "448CDAPjqfQr",
        "KSlN3yHqYklG",
        "t6dVpIINYklI",
        "ijmpgYnKYklI",
        "-JiQyfWJYklI",
        "EM7whBJCYoAo",
        "fge-S5ZAYoAp",
        "85gYPyotYoAp",
        "RoGjAbkUYoAp",
        "4Of9eVA-YrdM",
        "iky9q4vBYrdO",
        "F6T5p64dYrdO",
        "y-Ehk30pYrdP",
        "bamQiAODYuh1",
        "QHF8YVU7Yuh3",
        "GwzvFGzlYuh3",
        "qYpmQ266Yuh3",
        "OH-pJp9IphqM",
        "bbFf2-_FphqN",
        "_ouA3fa0phqN",
        "Seke61FWphqN",
        "PIIx-8_IphqN",
        "t27r6nlMphqO",
        "r2jJGEOYphqO",
        "b0JNsNcRphqO",
        "BZR9WyysphqO",
        "jj7wYXLtphqO",
        "eZrbJ2SmphqO",
        "rFu4xreNphqO",
        "YJ55k-q6phqO",
        "gCFgpxoyphqP",
        "OVtJsKN_phqQ",
        "lssrdh5qphqQ",
        "U2RJ9gkRphqQ",
        "1M8mcRywphqQ",
        "tgIPom80phqQ",
        "JMzcOPDDphqR",
        "x-EpHcCOp1ci",
        "X_VqEhTip1ck",
        "8zGJKyg5p1ck",
        "PVzmfK_Ep1ck",
        "n3dbpmDWp1ck",
        "ylSl6qgtp1ck",
        "ZWILFDl5p1ck",
        "M7G43BXep1ck",
        "Ag9LCva-p1cl",
        "E6MkPsBcp1cl",
        "2cELzS2fp1cl",
        "3MPXvC8up1cl",
        "NC_X3p0fY2L0",
        "UV0SzAkaZNRQ",
        "YPEH6qLeZNRQ",
        "q29F0dvdveiT",
        "EXh0U9oCveiU",
        "22aHeOlLveiV",
        "JcMwzZxoAimU",
        "8G2x9gOozGDZ",
        "gCX9965dhzqZ",
        "gIfDvo9L0UH2"
      ]
    },
    "kernelspec": {
      "name": "python3",
      "display_name": "Python 3"
    },
    "language_info": {
      "name": "python"
    },
    "gpuClass": "standard"
  },
  "cells": [
    {
      "cell_type": "markdown",
      "source": [
        "# **Capstone_EDA_Project-Playstore-App-Review-Analysis** \n",
        "\n"
      ],
      "metadata": {
        "id": "vncDsAP0Gaoa"
      }
    },
    {
      "cell_type": "markdown",
      "source": [
        "#### **Project Type**    - EDA \n",
        "##### **Contribution**    - Individual\n",
        "##### **Team Member 1 -** Dedwal Dipali Swarupchand\n",
        "\n"
      ],
      "metadata": {
        "id": "beRrZCGUAJYm"
      }
    },
    {
      "cell_type": "markdown",
      "source": [
        "# **Project Summary -**"
      ],
      "metadata": {
        "id": "FJNUwmbgGyua"
      }
    },
    {
      "cell_type": "markdown",
      "source": [
        "The Play Store App Review Analysis project is a data analysis project that involves analyzing user reviews of Android apps on the Google Play Store. The goal of the project is to gain insights into user sentiment, identify common issues or complaints, and provide recommendations for app developers to improve their products.\n",
        "The project involves collecting data on user reviews using web scraping tools or APIs, cleaning and processing the data, and conducting various analyses, such as sentiment analysis, topic modeling, and clustering. The results of the analysis can be presented in the form of visualizations, reports, or dashboards.\n",
        "The insights gained from the project can be used by app developers to improve their products and address user concerns, which can lead to increased user satisfaction and retention. Additionally, the project can help app developers identify opportunities for new features or products based on user needs and preferences.\n",
        "In this project we used two datasets i.e play store data.csv and user review data.csv"
      ],
      "metadata": {
        "id": "F6v_1wHtG2nS"
      }
    },
    {
      "cell_type": "markdown",
      "source": [
        "# **GitHub Link -**"
      ],
      "metadata": {
        "id": "w6K7xa23Elo4"
      }
    },
    {
      "cell_type": "markdown",
      "source": [
        "Provide your GitHub Link here."
      ],
      "metadata": {
        "id": "h1o69JH3Eqqn"
      }
    },
    {
      "cell_type": "markdown",
      "source": [
        "# **Problem Statement**\n"
      ],
      "metadata": {
        "id": "yQaldy8SH6Dl"
      }
    },
    {
      "cell_type": "markdown",
      "source": [
        "1.What are the top categories on Play Store?\n",
        "\n",
        "2.Are majority of the apps Paid or Free?\n",
        "\n",
        "3.How importance is the rating of the application?\n",
        "\n",
        "4.Which categories from the audience should the app be based on?\n",
        "\n",
        "5.Which category has the most no. of installations?\n",
        "\n",
        "6.How does the count of apps varies by Genres?\n",
        "\n",
        "7.How does the last update has an effect on the rating?\n",
        "\n",
        "8.How are ratings affected when the app is a paid one?\n",
        "\n",
        "9.How are reviews and ratings co-related?\n",
        "\n",
        "10.Lets us discuss the sentiment subjectivity.\n",
        "\n",
        "11.Is subjectivity and polarity proportional to each other?\n",
        "\n",
        "12.What is the percentage of review sentiments?\n",
        "\n",
        "13.How is sentiment polarity varying for paid and free apps?\n",
        "\n",
        "14.How Content Rating affect over the App?\n",
        "\n"
      ],
      "metadata": {
        "id": "DpeJGUA3kjGy"
      }
    },
    {
      "cell_type": "markdown",
      "source": [
        "#### **Define Your Business Objective?**"
      ],
      "metadata": {
        "id": "PH-0ReGfmX4f"
      }
    },
    {
      "cell_type": "markdown",
      "source": [
        "The Play Store apps data has enormous potential to drive app-making businesses to success. Actionable insights can be drawn for developers to work on and capture the Android market. Each app (row) has values for category, rating, size, and more. Another dataset contains customer reviews of the android apps. Explore and analyse the data to discover key factors responsible for app engagement and success."
      ],
      "metadata": {
        "id": "PhDvGCAqmjP1"
      }
    },
    {
      "cell_type": "markdown",
      "source": [
        "# **General Guidelines** : -  "
      ],
      "metadata": {
        "id": "mDgbUHAGgjLW"
      }
    },
    {
      "cell_type": "markdown",
      "source": [
        "1.   Well-structured, formatted, and commented code is required. \n",
        "2.   Exception Handling, Production Grade Code & Deployment Ready Code will be a plus. Those students will be awarded some additional credits. \n",
        "     \n",
        "     The additional credits will have advantages over other students during Star Student selection.\n",
        "       \n",
        "             [ Note: - Deployment Ready Code is defined as, the whole .ipynb notebook should be executable in one go\n",
        "                       without a single error logged. ]\n",
        "\n",
        "3.   Each and every logic should have proper comments.\n",
        "4. You may add as many number of charts you want. Make Sure for each and every chart the following format should be answered.\n",
        "        \n",
        "\n",
        "```\n",
        "# Chart visualization code\n",
        "```\n",
        "            \n",
        "\n",
        "*   Why did you pick the specific chart?\n",
        "*   What is/are the insight(s) found from the chart?\n",
        "* Will the gained insights help creating a positive business impact? \n",
        "Are there any insights that lead to negative growth? Justify with specific reason.\n",
        "\n",
        "5. You have to create at least 20 logical & meaningful charts having important insights.\n",
        "\n",
        "\n",
        "[ Hints : - Do the Vizualization in  a structured way while following \"UBM\" Rule. \n",
        "\n",
        "U - Univariate Analysis,\n",
        "\n",
        "B - Bivariate Analysis (Numerical - Categorical, Numerical - Numerical, Categorical - Categorical)\n",
        "\n",
        "M - Multivariate Analysis\n",
        " ]\n",
        "\n",
        "\n",
        "\n"
      ],
      "metadata": {
        "id": "ZrxVaUj-hHfC"
      }
    },
    {
      "cell_type": "markdown",
      "source": [
        "# ***Let's Begin !***"
      ],
      "metadata": {
        "id": "O_i_v8NEhb9l"
      }
    },
    {
      "cell_type": "markdown",
      "source": [
        "## ***1. Know Your Data***"
      ],
      "metadata": {
        "id": "HhfV-JJviCcP"
      }
    },
    {
      "cell_type": "markdown",
      "source": [
        "### Import Libraries"
      ],
      "metadata": {
        "id": "Y3lxredqlCYt"
      }
    },
    {
      "cell_type": "code",
      "source": [
        "# Import Libraries\n",
        "# importing libraries\n",
        "import pandas as pd               # for data manipulation\n",
        "import numpy as np                # for mathemathical operations and linear algebra\n",
        "import matplotlib.pyplot as plt   # for data visualization\n",
        "import seaborn as sns             # for data visualization \n",
        "import plotly.express as px       # for data visualization\n",
        "from sklearn.impute import SimpleImputer\n",
        "from datetime import datetime     # for datetime\n",
        "import missingno as msno\n",
        "import warnings\n",
        "warnings.filterwarnings('ignore')"
      ],
      "metadata": {
        "id": "M8Vqi-pPk-HR"
      },
      "execution_count": null,
      "outputs": []
    },
    {
      "cell_type": "markdown",
      "source": [
        "### Dataset Loading"
      ],
      "metadata": {
        "id": "3RnN4peoiCZX"
      }
    },
    {
      "cell_type": "code",
      "source": [
        "#mounting the drive\n",
        "from google.colab import drive\n",
        "drive.mount('/content/drive', force_remount=True)"
      ],
      "metadata": {
        "id": "4CkvbW_SlZ_R"
      },
      "execution_count": null,
      "outputs": []
    },
    {
      "cell_type": "code",
      "source": [
        "#load dataset\n",
        "play_store_data_path = '/content/drive/MyDrive/projectEDA/'\n",
        "play_store_df = pd.read_csv('/content/drive/MyDrive/projectEDA/Play Store Data.csv')\n",
        "user_reviews_df = pd.read_csv('/content/drive/MyDrive/projectEDA/User Reviews.csv')\n",
        "     "
      ],
      "metadata": {
        "id": "mrgqQ7CapALK"
      },
      "execution_count": null,
      "outputs": []
    },
    {
      "cell_type": "markdown",
      "source": [
        "### Dataset First View"
      ],
      "metadata": {
        "id": "x71ZqKXriCWQ"
      }
    },
    {
      "cell_type": "code",
      "source": [
        "# Dataset First Look of Play store data.csv \n",
        "play_store_df.head(-1)"
      ],
      "metadata": {
        "id": "LWNFOSvLl09H"
      },
      "execution_count": null,
      "outputs": []
    },
    {
      "cell_type": "code",
      "source": [
        "# last 5 rows of play store data dataset\n",
        "play_store_df.tail()"
      ],
      "metadata": {
        "id": "l8voMbF8qhsU"
      },
      "execution_count": null,
      "outputs": []
    },
    {
      "cell_type": "code",
      "source": [
        "# First Look of User reviews Dataset\n",
        "user_reviews_df.head(-1)"
      ],
      "metadata": {
        "id": "i0m1naLep7LV"
      },
      "execution_count": null,
      "outputs": []
    },
    {
      "cell_type": "code",
      "source": [
        "# last 5 rows of user reviews data dataset\n",
        "user_reviews_df.tail()"
      ],
      "metadata": {
        "id": "9LSdYEoeqGd1"
      },
      "execution_count": null,
      "outputs": []
    },
    {
      "cell_type": "markdown",
      "source": [
        "### Dataset Rows & Columns count"
      ],
      "metadata": {
        "id": "7hBIi_osiCS2"
      }
    },
    {
      "cell_type": "code",
      "source": [
        "#counting rows and column of play store data\n",
        "print(\"The shape of play store is \",play_store_df.shape)"
      ],
      "metadata": {
        "id": "Kllu7SJgmLij"
      },
      "execution_count": null,
      "outputs": []
    },
    {
      "cell_type": "code",
      "source": [
        "#counting rows and column of user reviews data\n",
        "print(\"The shape of user reviews is \",user_reviews_df.shape)"
      ],
      "metadata": {
        "id": "9XZxUAZazZYi"
      },
      "execution_count": null,
      "outputs": []
    },
    {
      "cell_type": "markdown",
      "source": [
        "### Dataset Information"
      ],
      "metadata": {
        "id": "JlHwYmJAmNHm"
      }
    },
    {
      "cell_type": "code",
      "source": [
        "# Dataset Info of play store.csv dataset\n",
        "play_store_df.info()"
      ],
      "metadata": {
        "id": "e9hRXRi6meOf"
      },
      "execution_count": null,
      "outputs": []
    },
    {
      "cell_type": "code",
      "source": [
        "# Dataset Info of user reviews.csv dataset\n",
        "user_reviews_df.info()"
      ],
      "metadata": {
        "id": "wwWrOCvs0Un5"
      },
      "execution_count": null,
      "outputs": []
    },
    {
      "cell_type": "markdown",
      "source": [
        "#### Duplicate Values"
      ],
      "metadata": {
        "id": "35m5QtbWiB9F"
      }
    },
    {
      "cell_type": "code",
      "source": [
        "# Dataset Duplicate Value Count in play store.csv \n",
        "duplicate_value1 = play_store_df.copy()\n",
        "\n",
        "duplicated_count_playstore = duplicate_value1.duplicated().sum()\n",
        "#print duplicate values in play store\n",
        "print(\"Duplicate rows in play store dataset:\",duplicated_count_playstore)\n"
      ],
      "metadata": {
        "id": "1sLdpKYkmox0"
      },
      "execution_count": null,
      "outputs": []
    },
    {
      "cell_type": "code",
      "source": [
        "#Dataset Duplicate Value Count in user reviews.csv\n",
        "duplicate_value2 = user_reviews_df.copy()\n",
        "\n",
        "\n",
        "duplicated_count_userreviews = duplicate_value2.duplicated().sum()\n",
        "\n",
        "#print duplicate values in user reviews\n",
        "print(\"Duplicate rows in user review dataset:\",duplicated_count_userreviews)"
      ],
      "metadata": {
        "id": "JwXB842k03xK"
      },
      "execution_count": null,
      "outputs": []
    },
    {
      "cell_type": "markdown",
      "source": [
        "#### Missing Values/Null Values"
      ],
      "metadata": {
        "id": "PoPl-ycgm1ru"
      }
    },
    {
      "cell_type": "code",
      "source": [
        "# Missing Values/Null Values Count in play store\n",
        "playstore_missvalues = duplicate_value1.isnull().sum()\n",
        "print(playstore_missvalues)"
      ],
      "metadata": {
        "id": "GgHWkxvamxVg"
      },
      "execution_count": null,
      "outputs": []
    },
    {
      "cell_type": "code",
      "source": [
        "# Missing Values/Null Values Count in user reviews\n",
        "userreviwes_missvalues = duplicate_value2.isnull().sum()\n",
        "print(userreviwes_missvalues)"
      ],
      "metadata": {
        "id": "g1_yEw8Z1i0R"
      },
      "execution_count": null,
      "outputs": []
    },
    {
      "cell_type": "code",
      "source": [
        "# Visualizing the missing values of play store\n",
        "playstore_missvalues.plot(kind = 'line')"
      ],
      "metadata": {
        "id": "3q5wnI3om9sJ"
      },
      "execution_count": null,
      "outputs": []
    },
    {
      "cell_type": "code",
      "source": [
        "# Visualizing the missing values of user reviews\n",
        "userreviwes_missvalues.plot(kind = 'bar')"
      ],
      "metadata": {
        "id": "0rZ74p6v4OxK"
      },
      "execution_count": null,
      "outputs": []
    },
    {
      "cell_type": "markdown",
      "source": [
        "### What did you know about your dataset?"
      ],
      "metadata": {
        "id": "H0kj-8xxnORC"
      }
    },
    {
      "cell_type": "markdown",
      "source": [
        "By exploring the play store dataset, we know that:\n",
        "\n",
        "There are 13 columns of properties with 10841 rows of data.\n",
        "There are 1474 missing values in the given dataset.\n",
        "The UserReviews present 64295 rows and 5 columns.\n",
        "Column 'Reviews', 'Size', 'Installs' and 'Price' are in the type of 'object' .\n",
        "Values of column 'Size' are strings representing size in 'M' as Megabytes, 'k' as kilobytes and also 'Varies with devices'.\n",
        "Values of column 'Installs' are strings representing install amount with symbols such as ',' and '+'.\n",
        "Values of column 'Price' are strings representing price with symbol '$'.\n",
        "\n",
        "By exploring user review dataset we have given number of null values as:\n",
        "\n",
        "Translated_Review has 26868 null values of the data.\n",
        "Sentiment has 26868 null values of the data.\n",
        "Sentiment_Polarity has 26868 null values of the data.\n",
        "Sentiment_Subjectivity has 26868 null values of the data.\n"
      ],
      "metadata": {
        "id": "gfoNAAC-nUe_"
      }
    },
    {
      "cell_type": "markdown",
      "source": [
        "## ***2. Understanding Your Variables***"
      ],
      "metadata": {
        "id": "nA9Y7ga8ng1Z"
      }
    },
    {
      "cell_type": "code",
      "source": [
        "# Dataset Columns of play_store\n",
        "play_store_df.columns"
      ],
      "metadata": {
        "id": "j7xfkqrt5Ag5"
      },
      "execution_count": null,
      "outputs": []
    },
    {
      "cell_type": "code",
      "source": [
        "# Dataset Columns of user_reviews\n",
        "user_reviews_df.columns"
      ],
      "metadata": {
        "id": "xTpSq1rX7JUf"
      },
      "execution_count": null,
      "outputs": []
    },
    {
      "cell_type": "code",
      "source": [
        "# Dataset Describe of play_store\n",
        "play_store_df.describe()"
      ],
      "metadata": {
        "id": "DnOaZdaE5Q5t"
      },
      "execution_count": null,
      "outputs": []
    },
    {
      "cell_type": "code",
      "source": [
        "# Dataset Describe of user_reviews\n",
        "user_reviews_df.describe()"
      ],
      "metadata": {
        "id": "8wGniPrE7dsJ"
      },
      "execution_count": null,
      "outputs": []
    },
    {
      "cell_type": "markdown",
      "source": [
        "### Variables Description "
      ],
      "metadata": {
        "id": "PBTbrJXOngz2"
      }
    },
    {
      "cell_type": "markdown",
      "source": [
        "****Variables used in this dataset****\n",
        "\n",
        "**Playstore variables:**\n",
        "\n",
        "There are 13 columns. \n",
        "They are:\n",
        "\n",
        "**1.App**- The name of the application.\n",
        "\n",
        "**2.Category**- The category to which an application belongs.\n",
        "\n",
        "***3.Rating*** - The ratings given by the users for a specific application.\n",
        "\n",
        "**4.Reviews** - The total number of users who have given a review for the application.\n",
        "\n",
        "***5.Size*** - The size being occupied the application on the mobile phone.\n",
        "\n",
        "***6.Installs*** - The total number of installs/downloads for an application.\n",
        "\n",
        "***7.Type*** - The application is free or a paid one.\n",
        "\n",
        "***8.Price*** - The price of the application.\n",
        "\n",
        "***9.Content_Rating*** - the target audience for the application.\n",
        "\n",
        "***10.Genres*** - The various other categories to which an application can belong.\n",
        "\n",
        "***11.Last_Updated*** - The when the application was updated.\n",
        "\n",
        "***12.Current_Ver*** - The current version of the application.\n",
        "\n",
        "***13.Android_Ver*** - The android version which can support the application on its platform.\n",
        "\n",
        "\n",
        "***User review variables:***\n",
        "\n",
        "There are 5 columns. \n",
        "They are:\n",
        "\n",
        "***App*** - It contains the name or identifier of the app.\n",
        "\n",
        "***Translated_Review*** - It contains the text of the review\n",
        "\n",
        "***Sentiment*** - It contains the overall sentiment of the review (e.g. positive or negative)\n",
        "\n",
        "***Sentiment_Polarity*** - It contains a measure of the positivity or negativity of the review\n",
        "\n",
        "***Sentiment_Subjectivity*** - It contains a measure of the subjectivity or objectivity of the review. These columns could be useful for analyzing the sentiment of app reviews and understanding how users feel about different apps."
      ],
      "metadata": {
        "id": "aJV4KIxSnxay"
      }
    },
    {
      "cell_type": "markdown",
      "source": [
        "### Check Unique Values for each variable."
      ],
      "metadata": {
        "id": "u3PMJOP6ngxN"
      }
    },
    {
      "cell_type": "code",
      "source": [
        "# Check Unique Values for each variable of play store.\n",
        "playstore_uniquevalues = duplicate_value1.nunique()\n",
        "print(playstore_uniquevalues)"
      ],
      "metadata": {
        "id": "zms12Yq5n-jE"
      },
      "execution_count": null,
      "outputs": []
    },
    {
      "cell_type": "code",
      "source": [
        "# Check Unique Values for each variable of user reviews.\n",
        "userreviews_uniquevalues = duplicate_value2.nunique()\n",
        "print(userreviews_uniquevalues)"
      ],
      "metadata": {
        "id": "LJpwhwEc9vsW"
      },
      "execution_count": null,
      "outputs": []
    },
    {
      "cell_type": "markdown",
      "source": [
        "**Exploring all the null values , NaN values and unique counts in Playstore Data Frame**"
      ],
      "metadata": {
        "id": "ESUqpVjtwEeP"
      }
    },
    {
      "cell_type": "code",
      "source": [
        "# creating a function to tabulate all the info on Null , NaN and unique counts in Playstore dataset\n",
        "def PlayStoreinfo():\n",
        "    temp = pd.DataFrame(index=duplicate_value1.columns)\n",
        "    temp['data_type'] = duplicate_value1.dtypes\n",
        "    temp[\"count of non null values\"] = duplicate_value1.count()\n",
        "    temp['NaN values'] = duplicate_value1.isnull().sum()\n",
        "    temp['% NaN values'] = duplicate_value1.isnull().mean() *100\n",
        "    temp['unique_count'] = duplicate_value1.nunique()\n",
        "    return temp \n",
        "PlayStoreinfo()"
      ],
      "metadata": {
        "id": "peBQ-KAIwK9s"
      },
      "execution_count": null,
      "outputs": []
    },
    {
      "cell_type": "markdown",
      "source": [
        "The number of null values are:\n",
        "\n",
        "Rating has 1474 null values which contributes 13.60% of the data. type has the 1 null values and 0.01% of the data and content rating has 1 null value and 0.01\n",
        "% of the contributes and cureent ver is the 8 null values and contribute the 0.07% data.android ver is the 3 null values and 0.02% contribute data."
      ],
      "metadata": {
        "id": "X8UP71xMxGr3"
      }
    },
    {
      "cell_type": "code",
      "source": [
        "# creating a function to tabulate all the info on Null , NaN and unique counts in user reviews dataset\n",
        "def UserReviewsinfo():\n",
        "    temp = pd.DataFrame(index=duplicate_value2.columns)\n",
        "    temp['data_type'] = duplicate_value2.dtypes\n",
        "    temp[\"count of non null values\"] = duplicate_value2.count()\n",
        "    temp['NaN values'] = duplicate_value2.isnull().sum()\n",
        "    temp['% NaN values'] = duplicate_value2.isnull().mean() *100\n",
        "    temp['unique_count'] = duplicate_value2.nunique()\n",
        "    return temp \n",
        "UserReviewsinfo()"
      ],
      "metadata": {
        "id": "xeK1CIi8xRMH"
      },
      "execution_count": null,
      "outputs": []
    },
    {
      "cell_type": "markdown",
      "source": [
        "The number of null values are:\n",
        "\n",
        "1.Translated_Review has 26868 null values which contributes 41.7% of the data.\n",
        "\n",
        "2.Sentiment has 26868 null values which contributes 41.7% of the data.\n",
        "\n",
        "3.Sentiment_Polarity has 26868 null values which contributes 41.7% of the data.\n",
        "\n",
        "4.Sentiment_Subjectivity has 26868 null values which contributes 41.7% of the data."
      ],
      "metadata": {
        "id": "Rf_3DDhjxrBm"
      }
    },
    {
      "cell_type": "markdown",
      "source": [
        "## 3. ***Data Wrangling***"
      ],
      "metadata": {
        "id": "dauF4eBmngu3"
      }
    },
    {
      "cell_type": "markdown",
      "source": [
        "### Cleaing the data\n",
        "\n",
        "**Removing insufficiant data column from the table**\n",
        "\n",
        "> 1.column - 'type'\n",
        "\n",
        "\n"
      ],
      "metadata": {
        "id": "bKJF3rekwFvQ"
      }
    },
    {
      "cell_type": "code",
      "source": [
        "# Finding the row with insufficiant data\n",
        "duplicate_value1[duplicate_value1['Type']!='Free'][duplicate_value1[duplicate_value1['Type']!='Free']['Price']=='0']"
      ],
      "metadata": {
        "id": "O-CAWqTi0GVq"
      },
      "execution_count": null,
      "outputs": []
    },
    {
      "cell_type": "code",
      "source": [
        "#Droping the row from the data frame\n",
        "duplicate_value1.drop(duplicate_value1[duplicate_value1['Type']!='Free'][duplicate_value1[duplicate_value1['Type']!='Free']['Price']=='0'].index, inplace=True)\n",
        "     "
      ],
      "metadata": {
        "id": "rfuCxFqhzZJP"
      },
      "execution_count": null,
      "outputs": []
    },
    {
      "cell_type": "markdown",
      "source": [
        "2.column - 'Current_version'"
      ],
      "metadata": {
        "id": "P4GFSVkTMUhf"
      }
    },
    {
      "cell_type": "code",
      "source": [
        "duplicate_value1.columns"
      ],
      "metadata": {
        "id": "EcKk6Cwv2Cg_"
      },
      "execution_count": null,
      "outputs": []
    },
    {
      "cell_type": "code",
      "source": [
        "# Finding the null values column\n",
        "duplicate_value1[duplicate_value1['Current Ver'].isnull()]"
      ],
      "metadata": {
        "id": "4c1hJrPCMj0l"
      },
      "execution_count": null,
      "outputs": []
    },
    {
      "cell_type": "code",
      "source": [
        "# Removing/droping null values\n",
        "duplicate_value1 = duplicate_value1[duplicate_value1['Current Ver'].notna()]\n",
        "duplicate_value1.shape"
      ],
      "metadata": {
        "id": "tr4mkbZ8OO5R"
      },
      "execution_count": null,
      "outputs": []
    },
    {
      "cell_type": "markdown",
      "source": [
        "3.Column - 'Android version ' "
      ],
      "metadata": {
        "id": "-0v9Fw2QOgwM"
      }
    },
    {
      "cell_type": "code",
      "source": [
        "duplicate_value1.columns"
      ],
      "metadata": {
        "id": "PCMVzmQUOflk"
      },
      "execution_count": null,
      "outputs": []
    },
    {
      "cell_type": "code",
      "source": [
        "# Finding rows of null values\n",
        "duplicate_value1[duplicate_value1['Android Ver'].isnull()]"
      ],
      "metadata": {
        "id": "vYxh_kA0O6bC"
      },
      "execution_count": null,
      "outputs": []
    },
    {
      "cell_type": "code",
      "source": [
        "duplicate_value1 = duplicate_value1[duplicate_value1['Android Ver'].notna()]\n",
        "duplicate_value1.shape"
      ],
      "metadata": {
        "id": "hlvZn5hNPcZn"
      },
      "execution_count": null,
      "outputs": []
    },
    {
      "cell_type": "code",
      "source": [
        "duplicate_value1.boxplot()"
      ],
      "metadata": {
        "id": "A3vA7FjBPk_s"
      },
      "execution_count": null,
      "outputs": []
    },
    {
      "cell_type": "markdown",
      "source": [
        "Ratings which exceed the normal rating system i.e more than 5 as shown in the box plot"
      ],
      "metadata": {
        "id": "qzDYyW_HP0rb"
      }
    },
    {
      "cell_type": "code",
      "source": [
        "duplicate_value1['Rating'].unique()"
      ],
      "metadata": {
        "id": "KxfiA7zIPqaJ"
      },
      "execution_count": null,
      "outputs": []
    },
    {
      "cell_type": "code",
      "source": [
        "#elimination the null value rows from the db\n",
        "duplicate_value2 = duplicate_value2[~duplicate_value2['Sentiment'].isna()]\n",
        "\n",
        "#non null user reviews.info()\n",
        "duplicate_value2.isna().sum()"
      ],
      "metadata": {
        "id": "Ucp-e6BeQP-E"
      },
      "execution_count": null,
      "outputs": []
    },
    {
      "cell_type": "code",
      "source": [
        "duplicate_value2 = duplicate_value2.dropna(subset=['Translated_Review'],how='all')\n",
        "duplicate_value2.shape"
      ],
      "metadata": {
        "id": "MhV2QO9nQ6Lq"
      },
      "execution_count": null,
      "outputs": []
    },
    {
      "cell_type": "code",
      "source": [
        "playstore_data_copy = duplicate_value1.copy()\n",
        "user_review_copy = duplicate_value2.copy()"
      ],
      "metadata": {
        "id": "obSmPkRCRu7W"
      },
      "execution_count": null,
      "outputs": []
    },
    {
      "cell_type": "code",
      "source": [
        "duplicate_cols_check = playstore_data_copy['App'].duplicated().any() \n",
        "duplicate_cols_check"
      ],
      "metadata": {
        "id": "SqSBuEz_SS_h"
      },
      "execution_count": null,
      "outputs": []
    },
    {
      "cell_type": "code",
      "source": [
        "#play store apps and their count value\n",
        "dtype = playstore_data_copy.dtypes\n",
        "print(dtype)"
      ],
      "metadata": {
        "id": "BvvkzPyCSZBD"
      },
      "execution_count": null,
      "outputs": []
    },
    {
      "cell_type": "code",
      "source": [
        "#define fun clean data\n",
        "def data_clean(num):\n",
        "    replace = {'+':'',',':'','$':'','M':'000000','k':'000','NaN':'0','':''}\n",
        "    for old, new in replace.items():\n",
        "        num = num.replace(old,new)\n",
        "    try:\n",
        "        cleaned_num = int(num)\n",
        "    except ValueError:\n",
        "        cleaned_num = float(num)\n",
        "    return cleaned_num"
      ],
      "metadata": {
        "id": "FXVUKH3QSvHY"
      },
      "execution_count": null,
      "outputs": []
    },
    {
      "cell_type": "code",
      "source": [
        "# Cleaning the unwanted charactors and converting the required column values into valid numeric type for easy analysis\n",
        "playstore_data_copy['Reviews'] = pd.to_numeric(playstore_data_copy['Reviews'])\n",
        "playstore_data_copy['Size'] = playstore_data_copy['Size'].apply(lambda x: 'NaN' if x == 'Varies with device' else x)\n",
        "\n",
        "playstore_data_copy['Installs'] = pd.to_numeric(playstore_data_copy['Installs'].map(data_clean))\n"
      ],
      "metadata": {
        "id": "JObRklO5UtGK"
      },
      "execution_count": null,
      "outputs": []
    },
    {
      "cell_type": "code",
      "source": [
        "playstore_data_copy['Price'] = pd.to_numeric(playstore_data_copy['Price'])\n"
      ],
      "metadata": {
        "id": "xIMwpb1Z3kgU"
      },
      "execution_count": null,
      "outputs": []
    },
    {
      "cell_type": "code",
      "source": [
        "playstore_data_copy.info()"
      ],
      "metadata": {
        "id": "xXnvwdevVnoX"
      },
      "execution_count": null,
      "outputs": []
    },
    {
      "cell_type": "code",
      "source": [
        "#selecting all the last rows of data for each app for max review analysis\n",
        "playstore_last_reviews = playstore_data_copy.groupby('App').tail(1).reset_index()\n",
        "\n",
        "app_review_max = playstore_last_reviews.loc[playstore_last_reviews.groupby(['App'])['Reviews'].idxmax()]\n",
        "app_review_max"
      ],
      "metadata": {
        "id": "I5_Cf9dmV4M0"
      },
      "execution_count": null,
      "outputs": []
    },
    {
      "cell_type": "code",
      "source": [
        "app_review_max.max()"
      ],
      "metadata": {
        "id": "eKQZCUEuWO5m"
      },
      "execution_count": null,
      "outputs": []
    },
    {
      "cell_type": "code",
      "source": [
        "# Displaying Genres\n",
        "top_genres = app_review_max.Genres.value_counts().reset_index().rename(columns={'Genres':'Count','index':'Genres'})\n",
        "top_genres"
      ],
      "metadata": {
        "id": "CYOiQhYrWaMx"
      },
      "execution_count": null,
      "outputs": []
    },
    {
      "cell_type": "code",
      "source": [
        "# displayin all free apps with max reviews\n",
        "app_review_max[app_review_max['Price'] == 0]"
      ],
      "metadata": {
        "id": "tzApbGHiWqwv"
      },
      "execution_count": null,
      "outputs": []
    },
    {
      "cell_type": "code",
      "source": [
        "#Preparing dataframe free app install counts\n",
        "genres_free_apps_installs = app_review_max[app_review_max['Price'] == 0].groupby(['Genres'])[['Installs']].sum().rename(columns={'Installs':'free_app_installs'})\n",
        "genres_free_apps_installs"
      ],
      "metadata": {
        "id": "4J1IzCmRW04X"
      },
      "execution_count": null,
      "outputs": []
    },
    {
      "cell_type": "code",
      "source": [
        "#Preparing dataframe paid app install counts\n",
        "genres_paid_apps_installs = playstore_data_copy[playstore_data_copy['Price']!= 0].groupby(['Genres'])[['Installs']].sum().rename(columns={'Installs':'Paid_app_installs'})\n",
        "genres_paid_apps_installs"
      ],
      "metadata": {
        "id": "pCiWN2FMXB6z"
      },
      "execution_count": null,
      "outputs": []
    },
    {
      "cell_type": "code",
      "source": [
        "#Preparing dataframe  Rating\n",
        "genre_ratings = app_review_max.groupby(['Genres'])[['Rating']].mean()\n",
        "genre_ratings"
      ],
      "metadata": {
        "id": "3Ekgf7JGXHlu"
      },
      "execution_count": null,
      "outputs": []
    },
    {
      "cell_type": "code",
      "source": [
        "#Mergering all the data previous dataframes for further analysis\n",
        "top_genres_installs = pd.merge(top_genres, genres_free_apps_installs, on='Genres')\n",
        "top_genres_installs"
      ],
      "metadata": {
        "id": "TaoUKAxnYq5f"
      },
      "execution_count": null,
      "outputs": []
    },
    {
      "cell_type": "code",
      "source": [
        "top_genres_apps_installs = pd.merge(top_genres_installs, genres_paid_apps_installs, on='Genres')\n",
        "top_genres_apps_installs"
      ],
      "metadata": {
        "id": "DfFjfyuwY0Nh"
      },
      "execution_count": null,
      "outputs": []
    },
    {
      "cell_type": "code",
      "source": [
        "top_genres_apps_installs_ratings= pd.merge(top_genres_apps_installs, genre_ratings, on='Genres')\n",
        "top_genres_apps_installs_ratings\n",
        "\n",
        "     "
      ],
      "metadata": {
        "id": "hEBVdMeAXbUv"
      },
      "execution_count": null,
      "outputs": []
    },
    {
      "cell_type": "code",
      "source": [
        "#Getting top 50 app data based on the Genres\n",
        "top_50_genres = top_genres_apps_installs_ratings.head(50)\n",
        "top_50_genres"
      ],
      "metadata": {
        "id": "4bHU0AMkZnus"
      },
      "execution_count": null,
      "outputs": []
    },
    {
      "cell_type": "markdown",
      "source": [
        "### What all manipulations have you done and insights you found?"
      ],
      "metadata": {
        "id": "MSa1f5Uengrz"
      }
    },
    {
      "cell_type": "markdown",
      "source": [
        "Our project challenge was data cleaning and 13.60% of ratings were NaN values, and even after merging both the dataframes.Many rows and columns anve insufficient data, so we have to drop them as well. More preferred the free apps. Because of the null and NaN values the analysis was not so accurate. Cleaning the unwanted charactors and converting the required column values into valid numeric type for easy analysis and for data clean we use the differnt function like count(),reset_value(),len()etc."
      ],
      "metadata": {
        "id": "LbyXE7I1olp8"
      }
    },
    {
      "cell_type": "markdown",
      "source": [
        "## ***4. Data Vizualization, Storytelling & Experimenting with charts : Understand the relationships between variables***"
      ],
      "metadata": {
        "id": "GF8Ens_Soomf"
      }
    },
    {
      "cell_type": "markdown",
      "source": [
        "#### Chart - 1"
      ],
      "metadata": {
        "id": "0wOQAZs5pc--"
      }
    },
    {
      "cell_type": "code",
      "source": [
        "# Chart - 1 visualization code\n",
        "# Heat map for play_store apps\n",
        "plt.figure(figsize = (15,10))\n",
        "sns.heatmap(playstore_data_copy.corr(), annot= True)\n",
        "plt.title('Co-relation Heatmap for Playstore Data', size=20)"
      ],
      "metadata": {
        "id": "7v_ESjsspbW7"
      },
      "execution_count": null,
      "outputs": []
    },
    {
      "cell_type": "markdown",
      "source": [
        "##### 1. Why did you pick the specific chart?"
      ],
      "metadata": {
        "id": "K5QZ13OEpz2H"
      }
    },
    {
      "cell_type": "markdown",
      "source": [
        "Heatmaps are a type of graphical representation that is commonly used in data analysis and visualization. Heatmaps are useful for displaying large amounts of data in a way that is easy to interpret and understand. Here are some reasons why heatmaps are commonly used in graphical representation:\n",
        "\n",
        "Visualizing patterns and relationships: Heatmaps are useful for visualizing patterns and relationships in data. Heatmaps use color to represent values, so it is easy to see where the highest and lowest values are and how they are distributed across the data.\n",
        "\n",
        "Identifying outliers: Heatmaps are also useful for identifying outliers or anomalies in data. Outliers are values that are significantly different from the rest of the data. Heatmaps can quickly highlight these values because they will stand out as different colors from the rest of the data.\n",
        "\n",
        "Comparing variables: Heatmaps can be used to compare variables and their relationships with each other. By creating a heatmap that shows the correlation between two or more variables, you can easily see how they are related to each other.\n",
        "\n",
        "Summarizing large datasets: Heatmaps are useful for summarizing large datasets. Instead of looking at a table of numbers, a heatmap can quickly provide an overview of the data by highlighting the most important information.\n",
        "\n",
        "Overall, heatmaps are a useful tool for data analysis and visualization because they provide a quick and easy way to see patterns, relationships, outliers, and summarize large datasets."
      ],
      "metadata": {
        "id": "XESiWehPqBRc"
      }
    },
    {
      "cell_type": "markdown",
      "source": [
        "##### 2. What is/are the insight(s) found from the chart?"
      ],
      "metadata": {
        "id": "lQ7QKXXCp7Bj"
      }
    },
    {
      "cell_type": "markdown",
      "source": [
        "The insights are - There is a majority of positive correlation between the Installs and Reviews columns. Greater the number of installs, higher is the user base, and major are the total number of reviews posted by the users.The Price is slightly negatively correlated with the Reviews, and Installs the average rating, total number of reviews and Installs decrease gradually.\n",
        "The Rating is marginally positively correlated with the Installs and Reviews` column. This points to the possibility that as the the average user rating grows, the app installs and number of reviews also increases."
      ],
      "metadata": {
        "id": "C_j1G7yiqdRP"
      }
    },
    {
      "cell_type": "markdown",
      "source": [
        "##### 3. Will the gained insights help creating a positive business impact? \n",
        "Are there any insights that lead to negative growth? Justify with specific reason."
      ],
      "metadata": {
        "id": "448CDAPjqfQr"
      }
    },
    {
      "cell_type": "markdown",
      "source": [
        "By understanding the distribution of app, developers can identify which are most popular and competitive, and tailor their app development and marketing strategies accordingly. For example, they might choose to focus on free install app with a high demand but low competition, or find ways to differentiate their apps within highly competitive.\n",
        "Overall, the insights gained from analyzing the given chart can have both positive and negative impacts on business growth, depending on how they are interpreted and acted upon."
      ],
      "metadata": {
        "id": "3cspy4FjqxJW"
      }
    },
    {
      "cell_type": "markdown",
      "source": [
        "#### Chart - 2"
      ],
      "metadata": {
        "id": "KSlN3yHqYklG"
      }
    },
    {
      "cell_type": "code",
      "source": [
        "# Chart - 2 visualization code\n",
        "#Plotting Top 50 Genres VS App counts  chart\n",
        "top_50_genres[['Genres','Count']].set_index('Genres').plot(kind='bar')\n",
        "plt.xticks(range(len(top_50_genres['Genres'])), top_50_genres['Genres'], rotation=90)\n",
        "plt.rc('font', size=14) \n",
        "plt.rcParams['figure.figsize'] = (20, 10)\n",
        "plt.title('Top 50 Genres VS App Counts')\n",
        "plt.ylabel('Number of applications')\n",
        "plt.xlabel('Genres')"
      ],
      "metadata": {
        "id": "R4YgtaqtYklH"
      },
      "execution_count": null,
      "outputs": []
    },
    {
      "cell_type": "markdown",
      "source": [
        "##### 1. Why did you pick the specific chart?"
      ],
      "metadata": {
        "id": "t6dVpIINYklI"
      }
    },
    {
      "cell_type": "markdown",
      "source": [
        "for the play store genre and count . using bar graph are a type of graphical representation that are commonly used to display and compare data.\n",
        "bar graphs are a versatile and useful tool for data analysis and visualization because they allow you to compare and display data in a visually appealing way, summarize data, and show trends over time or across categories."
      ],
      "metadata": {
        "id": "5aaW0BYyYklI"
      }
    },
    {
      "cell_type": "markdown",
      "source": [
        "##### 2. What is/are the insight(s) found from the chart?"
      ],
      "metadata": {
        "id": "ijmpgYnKYklI"
      }
    },
    {
      "cell_type": "markdown",
      "source": [
        "The insight are - Genres that are in top 3 are Tools, entertainment and education\n",
        "The genre that has highest app count is 'Tools'\n",
        "The genre that has lowest app count is board:brain games"
      ],
      "metadata": {
        "id": "PSx9atu2YklI"
      }
    },
    {
      "cell_type": "markdown",
      "source": [
        "##### 3. Will the gained insights help creating a positive business impact? \n",
        "Are there any insights that lead to negative growth? Justify with specific reason."
      ],
      "metadata": {
        "id": "-JiQyfWJYklI"
      }
    },
    {
      "cell_type": "markdown",
      "source": [
        "This has no specific impact on bussiness because its just the valid comparition between two categories. But tool uesly widely."
      ],
      "metadata": {
        "id": "BcBbebzrYklV"
      }
    },
    {
      "cell_type": "markdown",
      "source": [
        "#### Chart - 3"
      ],
      "metadata": {
        "id": "EM7whBJCYoAo"
      }
    },
    {
      "cell_type": "code",
      "source": [
        "# Chart - 3 visualization code\n",
        "#Plotting Top 50 Genres VS Free apps install count chart\n",
        "top_50_genres[['Genres','free_app_installs']].set_index('Genres').plot(kind='bar')\n",
        "plt.rcParams['figure.figsize'] = (15, 14)\n",
        "plt.rc('font', size=14) \n",
        "plt.title('Top 50 Genres VS Free app install Counts')\n",
        "plt.ylabel('Number of installations (100 millions)')\n",
        "plt.xlabel('Genres')"
      ],
      "metadata": {
        "id": "t6GMdE67YoAp"
      },
      "execution_count": null,
      "outputs": []
    },
    {
      "cell_type": "markdown",
      "source": [
        "##### 1. Why did you pick the specific chart?"
      ],
      "metadata": {
        "id": "fge-S5ZAYoAp"
      }
    },
    {
      "cell_type": "markdown",
      "source": [
        "The bar graph reprsent the highest genre in the free install app are the exploring.\n"
      ],
      "metadata": {
        "id": "5dBItgRVYoAp"
      }
    },
    {
      "cell_type": "markdown",
      "source": [
        "##### 2. What is/are the insight(s) found from the chart?"
      ],
      "metadata": {
        "id": "85gYPyotYoAp"
      }
    },
    {
      "cell_type": "markdown",
      "source": [
        "\n",
        "\n",
        "The insights are: The genre having the highest number of free apps installed is communication and Most people having low trust on genres like parenting,medical shows."
      ],
      "metadata": {
        "id": "4jstXR6OYoAp"
      }
    },
    {
      "cell_type": "markdown",
      "source": [
        "##### 3. Will the gained insights help creating a positive business impact? \n",
        "Are there any insights that lead to negative growth? Justify with specific reason."
      ],
      "metadata": {
        "id": "RoGjAbkUYoAp"
      }
    },
    {
      "cell_type": "markdown",
      "source": [
        "This has no specific impact on bussiness because its just the valid comparition between two categories. Free form of any communication applications are widely used. And most of the contribution in the categorie are social."
      ],
      "metadata": {
        "id": "zfJ8IqMcYoAp"
      }
    },
    {
      "cell_type": "markdown",
      "source": [
        "#### Chart - 4"
      ],
      "metadata": {
        "id": "4Of9eVA-YrdM"
      }
    },
    {
      "cell_type": "code",
      "source": [
        "# Chart - 4 visualization code\n",
        "#Plotting Top 50 Genres VS Paid apps install count chart\n",
        "top_50_genres[['Genres','Paid_app_installs']].set_index('Genres').plot(kind='bar')\n",
        "plt.title('Top 50 Genres VS Paid app install Counts')\n",
        "plt.ylabel('Number of paid installations (in 100 millions)')\n",
        "plt.xlabel('Genres')\n"
      ],
      "metadata": {
        "id": "irlUoxc8YrdO"
      },
      "execution_count": null,
      "outputs": []
    },
    {
      "cell_type": "markdown",
      "source": [
        "##### 1. Why did you pick the specific chart?"
      ],
      "metadata": {
        "id": "iky9q4vBYrdO"
      }
    },
    {
      "cell_type": "markdown",
      "source": [
        "This bar explore the highest paid application"
      ],
      "metadata": {
        "id": "aJRCwT6DYrdO"
      }
    },
    {
      "cell_type": "markdown",
      "source": [
        "##### 2. What is/are the insight(s) found from the chart?"
      ],
      "metadata": {
        "id": "F6T5p64dYrdO"
      }
    },
    {
      "cell_type": "markdown",
      "source": [
        "Most install the arcade; action and adventure and most of the this generation like to games, people buy anything for games they paid game are playing.most people not intersted in paid apps."
      ],
      "metadata": {
        "id": "Xx8WAJvtYrdO"
      }
    },
    {
      "cell_type": "markdown",
      "source": [
        "##### 3. Will the gained insights help creating a positive business impact? \n",
        "Are there any insights that lead to negative growth? Justify with specific reason."
      ],
      "metadata": {
        "id": "y-Ehk30pYrdP"
      }
    },
    {
      "cell_type": "markdown",
      "source": [
        "the insight negative sign as generation interested in free app than paid , so some companies investing and making the game app and this game app are paid becaues people love the game so company see most profits."
      ],
      "metadata": {
        "id": "jLNxxz7MYrdP"
      }
    },
    {
      "cell_type": "markdown",
      "source": [
        "#### Chart - 5"
      ],
      "metadata": {
        "id": "bamQiAODYuh1"
      }
    },
    {
      "cell_type": "code",
      "source": [
        "# Chart - 5 visualization code\n",
        "#Category wise free and paid app installs count\n",
        "category_installs = playstore_data_copy.groupby(['Category','Type'])[['Installs']].sum().unstack().reset_index()\n",
        "category_installs = category_installs[~category_installs['Installs']['Paid'].isna()].set_index('Category')\n",
        "category_installs"
      ],
      "metadata": {
        "id": "TIJwrbroYuh3"
      },
      "execution_count": null,
      "outputs": []
    },
    {
      "cell_type": "code",
      "source": [
        "#Plot between Paid and Free installed app counts\n",
        "ind = category_installs.index\n",
        "column0 = category_installs['Installs']['Paid']\n",
        "column1 = category_installs['Installs']['Free']\n",
        "title0 = 'Paid app install Counts(in millions)'\n",
        "title1 = 'Free app install Counts(in 100 millions)'\n",
        "\n",
        "fig, axes = plt.subplots(figsize=(20,10), ncols=2, sharey=True)\n",
        "fig.tight_layout()\n",
        "\n",
        "axes[0].barh(ind, column0, align='center', color='orange', zorder=12)\n",
        "axes[0].set_title(title0, fontsize=18, pad=15, color='orange')\n",
        "axes[1].barh(ind, column1, align='center', color='g', zorder=12)\n",
        "axes[1].set_title(title1, fontsize=18, pad=15, color='g')\n",
        "    \n",
        "plt.subplots_adjust(wspace=0.01, top=0.85, bottom=0.1, left=0.18, right=0.95)"
      ],
      "metadata": {
        "id": "HduH00NK6eMp"
      },
      "execution_count": null,
      "outputs": []
    },
    {
      "cell_type": "markdown",
      "source": [
        "##### 1. Why did you pick the specific chart?"
      ],
      "metadata": {
        "id": "QHF8YVU7Yuh3"
      }
    },
    {
      "cell_type": "markdown",
      "source": [
        "Installtion count between free and paid apps"
      ],
      "metadata": {
        "id": "dcxuIMRPYuh3"
      }
    },
    {
      "cell_type": "markdown",
      "source": [
        "##### 2. What is/are the insight(s) found from the chart?"
      ],
      "metadata": {
        "id": "GwzvFGzlYuh3"
      }
    },
    {
      "cell_type": "markdown",
      "source": [
        "family category is most paid app install and free app install are game"
      ],
      "metadata": {
        "id": "uyqkiB8YYuh3"
      }
    },
    {
      "cell_type": "markdown",
      "source": [
        "##### 3. Will the gained insights help creating a positive business impact? \n",
        "Are there any insights that lead to negative growth? Justify with specific reason."
      ],
      "metadata": {
        "id": "qYpmQ266Yuh3"
      }
    },
    {
      "cell_type": "markdown",
      "source": [
        "According to the stats, most paid apps are in family and games category. Apart from these no other category is doing good in making money. This also indiacates that if the service provided is good and secured with quality, it will certainly create a positive impact on buisness and no otherwise.\n",
        "\n"
      ],
      "metadata": {
        "id": "_WtzZ_hCYuh4"
      }
    },
    {
      "cell_type": "markdown",
      "source": [
        "#### Chart - 6"
      ],
      "metadata": {
        "id": "OH-pJp9IphqM"
      }
    },
    {
      "cell_type": "code",
      "source": [
        "# Chart - 6 visualization code\n",
        "#App pricing across categories for Paid apps\n",
        "categrory_price_mean = playstore_data_copy[playstore_data_copy['Price'] !=  0].groupby(['Category'])['Price'].mean().reset_index(name='Price')\n",
        "ax = sns.stripplot(x='Price', y='Category', data=categrory_price_mean, jitter=True, linewidth=2)\n",
        "ax.set_title('App pricing trend across categories(in USD)')"
      ],
      "metadata": {
        "id": "kuRf4wtuphqN"
      },
      "execution_count": null,
      "outputs": []
    },
    {
      "cell_type": "markdown",
      "source": [
        "##### 1. Why did you pick the specific chart?"
      ],
      "metadata": {
        "id": "bbFf2-_FphqN"
      }
    },
    {
      "cell_type": "markdown",
      "source": [
        "The show pricing across categories for Paid apps"
      ],
      "metadata": {
        "id": "loh7H2nzphqN"
      }
    },
    {
      "cell_type": "markdown",
      "source": [
        "##### 2. What is/are the insight(s) found from the chart?"
      ],
      "metadata": {
        "id": "_ouA3fa0phqN"
      }
    },
    {
      "cell_type": "markdown",
      "source": [
        "Most apps are priced under 25USD\n",
        "Finance category has the highest priced app followed by lifestyle\n",
        "Lowest priced category is libraries and demo"
      ],
      "metadata": {
        "id": "VECbqPI7phqN"
      }
    },
    {
      "cell_type": "markdown",
      "source": [
        "##### 3. Will the gained insights help creating a positive business impact? \n",
        "Are there any insights that lead to negative growth? Justify with specific reason."
      ],
      "metadata": {
        "id": "Seke61FWphqN"
      }
    },
    {
      "cell_type": "markdown",
      "source": [
        "As this is just the trend of pricing categories this may not decide the buisness. But what it gives out is an idea of on how much an app can charge according to there particular category and what their competitors are charging in the market"
      ],
      "metadata": {
        "id": "DW4_bGpfphqN"
      }
    },
    {
      "cell_type": "markdown",
      "source": [
        "#### Chart - 7"
      ],
      "metadata": {
        "id": "PIIx-8_IphqN"
      }
    },
    {
      "cell_type": "code",
      "source": [
        "# Chart - 7 visualization code\n",
        "\n",
        "#Ploting the histogram Rating\n",
        "rating_df = playstore_data_copy[~playstore_data_copy['Rating'].isna()]['Rating']\n",
        "\n",
        "plt.title('Histogram of Rating')\n",
        "sns.distplot(rating_df, hist=True , color = 'g')\n",
        "     "
      ],
      "metadata": {
        "id": "lqAIGUfyphqO"
      },
      "execution_count": null,
      "outputs": []
    },
    {
      "cell_type": "markdown",
      "source": [
        "##### 1. Why did you pick the specific chart?"
      ],
      "metadata": {
        "id": "t27r6nlMphqO"
      }
    },
    {
      "cell_type": "markdown",
      "source": [
        "To find analysis based on App Rating and We get a summarized information of liked and disliked app by a number of users all around the world.\n",
        "\n"
      ],
      "metadata": {
        "id": "iv6ro40sphqO"
      }
    },
    {
      "cell_type": "markdown",
      "source": [
        "##### 2. What is/are the insight(s) found from the chart?"
      ],
      "metadata": {
        "id": "r2jJGEOYphqO"
      }
    },
    {
      "cell_type": "markdown",
      "source": [
        "Most apps have the rating between 4 to 5\n",
        "Also shows us most apps are liked by many users depending on ease of use, funtionality, performance and less bugs"
      ],
      "metadata": {
        "id": "Po6ZPi4hphqO"
      }
    },
    {
      "cell_type": "markdown",
      "source": [
        "##### 3. Will the gained insights help creating a positive business impact? \n",
        "Are there any insights that lead to negative growth? Justify with specific reason."
      ],
      "metadata": {
        "id": "b0JNsNcRphqO"
      }
    },
    {
      "cell_type": "markdown",
      "source": [
        "Definetly a positive impact on bussiness.Because now they have the users trust they can experiment on scaling the app and with pricing. Increrase their functionality globally. Reduces adverisement cost. Mainly they can also divert this taffic to thier next projects which helps them becoming a brand\n",
        "\n"
      ],
      "metadata": {
        "id": "xvSq8iUTphqO"
      }
    },
    {
      "cell_type": "markdown",
      "source": [
        "#### Chart - 8"
      ],
      "metadata": {
        "id": "BZR9WyysphqO"
      }
    },
    {
      "cell_type": "code",
      "source": [
        "# Chart - 8 visualization code\n",
        "#ploting Category wise mean Rating\n",
        "category_mean_rating = playstore_data_copy.groupby(['Category'])['Rating'].mean().reset_index(name='Rating')\n",
        "category_mean_rating.set_index('Category').plot(kind='bar' , color = 'c')\n",
        "plt.rcParams['figure.figsize'] = (20, 10)\n",
        "plt.rc('font', size=14) \n",
        "plt.title('Category VS Mean Rating')\n",
        "plt.ylabel('Ratings out of 5')\n",
        "plt.xlabel('Category')"
      ],
      "metadata": {
        "id": "TdPTWpAVphqO"
      },
      "execution_count": null,
      "outputs": []
    },
    {
      "cell_type": "markdown",
      "source": [
        "##### 1. Why did you pick the specific chart?"
      ],
      "metadata": {
        "id": "jj7wYXLtphqO"
      }
    },
    {
      "cell_type": "markdown",
      "source": [
        "To find Category wise mean Rating\n",
        "\n"
      ],
      "metadata": {
        "id": "Ob8u6rCTphqO"
      }
    },
    {
      "cell_type": "markdown",
      "source": [
        "##### 2. What is/are the insight(s) found from the chart?"
      ],
      "metadata": {
        "id": "eZrbJ2SmphqO"
      }
    },
    {
      "cell_type": "markdown",
      "source": [
        "Most categories have the rating between 4 to 5\n",
        "Also shows us most categories are liked by many users depending on ease of use, funtionality, performance and less bugs\n"
      ],
      "metadata": {
        "id": "mZtgC_hjphqO"
      }
    },
    {
      "cell_type": "markdown",
      "source": [
        "##### 3. Will the gained insights help creating a positive business impact? \n",
        "Are there any insights that lead to negative growth? Justify with specific reason."
      ],
      "metadata": {
        "id": "rFu4xreNphqO"
      }
    },
    {
      "cell_type": "markdown",
      "source": [
        "Definetly a positive impact on buisness.Because now they have the users trust they can experiment on scaling the app and with pricing. Increrase their functionality globally. Reduces adverisement cost. Mainly they can also divert this taffic to thier next projects which helps them becoming a brand\n",
        "\n"
      ],
      "metadata": {
        "id": "ey_0qi68phqO"
      }
    },
    {
      "cell_type": "markdown",
      "source": [
        "#### Chart - 9"
      ],
      "metadata": {
        "id": "YJ55k-q6phqO"
      }
    },
    {
      "cell_type": "code",
      "source": [
        "# Chart - 9 visualization code\n",
        "#Ratings given by different age of people\n",
        "content_rating = playstore_data_copy['Content Rating'].value_counts()\n",
        "content_rating"
      ],
      "metadata": {
        "id": "B2aS4O1ophqO"
      },
      "execution_count": null,
      "outputs": []
    },
    {
      "cell_type": "code",
      "source": [
        "content_rating.plot(kind='pie', fontsize =15,explode= (0.1,0.2,0.3,0.4,0.5,0.1), autopct='%1.2f%%', pctdistance=1.1 , labeldistance= 1.8)\n",
        "#Genres.value_counts().reset_index().rename(columns={'Genres':'Count','index':'Genres'})"
      ],
      "metadata": {
        "id": "cfmZsi2f8b9U"
      },
      "execution_count": null,
      "outputs": []
    },
    {
      "cell_type": "markdown",
      "source": [
        "##### 1. Why did you pick the specific chart?"
      ],
      "metadata": {
        "id": "gCFgpxoyphqP"
      }
    },
    {
      "cell_type": "markdown",
      "source": [
        "To find ratings given by different age group of people\n",
        "\n"
      ],
      "metadata": {
        "id": "TVxDimi2phqP"
      }
    },
    {
      "cell_type": "markdown",
      "source": [
        "##### 2. What is/are the insight(s) found from the chart?"
      ],
      "metadata": {
        "id": "OVtJsKN_phqQ"
      }
    },
    {
      "cell_type": "markdown",
      "source": [
        "Most of the apps are used by all age groups of people\n",
        "Lowest is the adults only\n",
        "Most apps were created keeping every age group in mind.\n"
      ],
      "metadata": {
        "id": "ngGi97qjphqQ"
      }
    },
    {
      "cell_type": "markdown",
      "source": [
        "##### 3. Will the gained insights help creating a positive business impact? \n",
        "Are there any insights that lead to negative growth? Justify with specific reason."
      ],
      "metadata": {
        "id": "lssrdh5qphqQ"
      }
    },
    {
      "cell_type": "markdown",
      "source": [
        "Going with this content rating most creators are targeting every age group. So that would be the wise choise to go for a positive business impact. Choosing teen content as the niche category can also feature growth. Mostly family-friendly content categories will win the race\n",
        "\n"
      ],
      "metadata": {
        "id": "tBpY5ekJphqQ"
      }
    },
    {
      "cell_type": "markdown",
      "source": [
        "#### Chart - 10"
      ],
      "metadata": {
        "id": "U2RJ9gkRphqQ"
      }
    },
    {
      "cell_type": "code",
      "source": [
        "# Chart - 10 visualization code\n",
        "#Getting the top downloaded 10 apps and their Ratings vs Reviews\n",
        "top_downloaded_apps = playstore_data_copy.groupby('App').tail(1).sort_values(['Installs','Rating'], ascending=False).head(50)\n",
        "top_10_downloaded_apps = top_downloaded_apps.head(10).set_index('App')[['Rating','Reviews']].sort_values(['Reviews'])\n",
        "     "
      ],
      "metadata": {
        "id": "GM7a4YP4phqQ"
      },
      "execution_count": null,
      "outputs": []
    },
    {
      "cell_type": "code",
      "source": [
        "#Plotting between Top ratting apps and reviews\n",
        "ind = top_10_downloaded_apps.index\n",
        "column0 = top_10_downloaded_apps['Reviews']\n",
        "column1 = top_10_downloaded_apps['Rating']\n",
        "title0 = 'Total ratings out of 5'\n",
        "title1 = 'Total reviews in 10 millions'\n",
        "\n",
        "fig, axes = plt.subplots(figsize=(10,5), ncols=2, sharey=True)\n",
        "fig.tight_layout()\n",
        "\n",
        "axes[0].barh(ind, column0, align='center', color='g', zorder=10)\n",
        "axes[0].set_title(title0, fontsize=18, pad=15, color='g')\n",
        "axes[1].barh(ind, column1, align='center', color='b', zorder=10)\n",
        "axes[1].set_title(title1, fontsize=18, pad=15, color='b')\n",
        "    \n",
        "# If you have positive numbers and want to invert the x-axis of the left plot\n",
        "axes[0].invert_xaxis() \n",
        "\n",
        "# To show data from highest to lowest\n",
        "# plt.gca().invert_yaxis()\n",
        "axes[0].set(yticks=ind, yticklabels=ind)\n",
        "axes[0].yaxis.tick_left()\n",
        "\n",
        "axes[0].set_xticklabels([1, 2, 3, 4, 5])\n",
        "axes[1].set_xticklabels([0, 10, 20, 30, 40, 50])\n",
        "\n",
        "plt.subplots_adjust(wspace=0, top=0.85, bottom=0.1, left=0.18, right=0.95)"
      ],
      "metadata": {
        "id": "9Vg83oEF81fj"
      },
      "execution_count": null,
      "outputs": []
    },
    {
      "cell_type": "markdown",
      "source": [
        "##### 1. Why did you pick the specific chart?"
      ],
      "metadata": {
        "id": "1M8mcRywphqQ"
      }
    },
    {
      "cell_type": "markdown",
      "source": [
        "To get the top downloaded 10 apps and their Ratings vs Reviews\n",
        "\n"
      ],
      "metadata": {
        "id": "8agQvks0phqQ"
      }
    },
    {
      "cell_type": "markdown",
      "source": [
        "##### 2. What is/are the insight(s) found from the chart?"
      ],
      "metadata": {
        "id": "tgIPom80phqQ"
      }
    },
    {
      "cell_type": "markdown",
      "source": [
        "Both of the top rated apps are from social media/communication with above 4 rating(out of 5)\n",
        "Rest all are below 3 rating\n",
        "Reviews of all the 10 apps are of same level.\n",
        "Exceptional difference in ratings are seen in between top 2 and rest of the top 10"
      ],
      "metadata": {
        "id": "Qp13pnNzphqQ"
      }
    },
    {
      "cell_type": "markdown",
      "source": [
        "##### 3. Will the gained insights help creating a positive business impact? \n",
        "Are there any insights that lead to negative growth? Justify with specific reason."
      ],
      "metadata": {
        "id": "JMzcOPDDphqR"
      }
    },
    {
      "cell_type": "markdown",
      "source": [
        "This in here shows the quality differences betweeen the apps. Even though the downloads are high there is a huge difference in ratings. These stats definetly affect the business negatively. As people start to compare and go with the app that is good at both functionality and service. One of the best way to improve these ratings is to go through the reviews and try to find where the users are facing problems and fix it."
      ],
      "metadata": {
        "id": "R4Ka1PC2phqR"
      }
    },
    {
      "cell_type": "markdown",
      "source": [
        "#### Chart - 11"
      ],
      "metadata": {
        "id": "x-EpHcCOp1ci"
      }
    },
    {
      "cell_type": "code",
      "source": [
        "# Chart - 11 visualization code\n",
        "#Plotting the distribution of Subjectivity\n",
        "sentiment_subjectivity_df = user_review_copy['Sentiment_Subjectivity']\n",
        "sns.distplot(sentiment_subjectivity_df, hist=True , color ='c')\n",
        "plt.xlabel(\"Subjectivity\")\n",
        "plt.title('Distribution of Subjectivity')"
      ],
      "metadata": {
        "id": "mAQTIvtqp1cj"
      },
      "execution_count": null,
      "outputs": []
    },
    {
      "cell_type": "markdown",
      "source": [
        "##### 1. Why did you pick the specific chart?"
      ],
      "metadata": {
        "id": "X_VqEhTip1ck"
      }
    },
    {
      "cell_type": "markdown",
      "source": [
        "To know the distribution of Subjectivity\n",
        "\n"
      ],
      "metadata": {
        "id": "-vsMzt_np1ck"
      }
    },
    {
      "cell_type": "markdown",
      "source": [
        "##### 2. What is/are the insight(s) found from the chart?"
      ],
      "metadata": {
        "id": "8zGJKyg5p1ck"
      }
    },
    {
      "cell_type": "markdown",
      "source": [
        "Sentiment subjectivity lies between range 0.4 to 0.7.\n",
        "We observed that maximum number of users post reviews to the apps which suits their experience."
      ],
      "metadata": {
        "id": "ZYdMsrqVp1ck"
      }
    },
    {
      "cell_type": "markdown",
      "source": [
        "##### 3. Will the gained insights help creating a positive business impact? \n",
        "Are there any insights that lead to negative growth? Justify with specific reason."
      ],
      "metadata": {
        "id": "PVzmfK_Ep1ck"
      }
    },
    {
      "cell_type": "markdown",
      "source": [
        "As we know sentiment subjectivity refers to the degree to which a piece of writing expresses personal opinions, feelings, or biases. And everyone has their own point of view. So, Sentiment subjectivity is inversely proportional to the growth of business\n",
        "\n"
      ],
      "metadata": {
        "id": "druuKYZpp1ck"
      }
    },
    {
      "cell_type": "markdown",
      "source": [
        "#### Chart - 12"
      ],
      "metadata": {
        "id": "n3dbpmDWp1ck"
      }
    },
    {
      "cell_type": "markdown",
      "source": [
        "**Analysing the Relationship between the Sentiment Subjectivity and Sentiment Polarity**\n",
        "\n",
        "I will use a scatter plot for plotting the relationship between subjectivity and polarity. Different colors in scatter show the distribution of negative, neutral and positive sentiments clearly.\n",
        "\n",
        "Below is scatter plot which conclude that sentiment subjectivity is not likely proportional to sentiment polarity always but in maximum cases, proportional variance is too high or too low."
      ],
      "metadata": {
        "id": "Hys7O2729YNR"
      }
    },
    {
      "cell_type": "code",
      "source": [
        "# Chart - 12 visualization code\n",
        "#plotting the relationship between sentiment_subjectivity and sentiment_polarity in scatter plot\n",
        "sns.scatterplot(data=user_review_copy, x='Sentiment_Subjectivity', y='Sentiment_Polarity', hue='Sentiment', edgecolor='white', palette='coolwarm')\n",
        "plt.title('Relationship between Sentiment_Subjectivity and Sentiment_Polarity')\n",
        "plt.show()"
      ],
      "metadata": {
        "id": "bwevp1tKp1ck"
      },
      "execution_count": null,
      "outputs": []
    },
    {
      "cell_type": "markdown",
      "source": [
        "Above as we analysed the plot we got the insight that the positive sentiments are in majority of cases where the users gave reviews where they find satisfactio. For a better app success, the users needs should be more focused,like what feature and what detail is more liked and appreciated and enhance it with every update.\n",
        "\n"
      ],
      "metadata": {
        "id": "KT2uBj1SB84q"
      }
    },
    {
      "cell_type": "markdown",
      "source": [
        "##### 1. Why did you pick the specific chart?"
      ],
      "metadata": {
        "id": "ylSl6qgtp1ck"
      }
    },
    {
      "cell_type": "markdown",
      "source": [
        "To plot the relationship between sentiment_subjectivity and sentiment_polarity in scatter plot\n",
        "\n"
      ],
      "metadata": {
        "id": "m2xqNkiQp1ck"
      }
    },
    {
      "cell_type": "markdown",
      "source": [
        "##### 2. What is/are the insight(s) found from the chart?"
      ],
      "metadata": {
        "id": "ZWILFDl5p1ck"
      }
    },
    {
      "cell_type": "markdown",
      "source": [
        "The scatter plot which concludes that sentiment subjectivity is not likely proportional to sentiment polarity always.\n",
        "Proportional variance is too high or too low."
      ],
      "metadata": {
        "id": "x-lUsV2mp1ck"
      }
    },
    {
      "cell_type": "markdown",
      "source": [
        "##### 3. Will the gained insights help creating a positive business impact? \n",
        "Are there any insights that lead to negative growth? Justify with specific reason."
      ],
      "metadata": {
        "id": "M7G43BXep1ck"
      }
    },
    {
      "cell_type": "markdown",
      "source": [
        "Depending on the above plot yes and no as well. Reason is when polarity is positive and subjectivity is high it is a good product for individual. And the product is a complete garbage when subjectivity is low and polarity is negative\n",
        "\n"
      ],
      "metadata": {
        "id": "5wwDJXsLp1cl"
      }
    },
    {
      "cell_type": "markdown",
      "source": [
        "#### Chart - 13"
      ],
      "metadata": {
        "id": "Ag9LCva-p1cl"
      }
    },
    {
      "cell_type": "code",
      "source": [
        "# Chart - 13 visualization code\n",
        "\n",
        "#Counts of Review sentiments\n",
        "user_review_copy['Sentiment'].value_counts()"
      ],
      "metadata": {
        "id": "EUfxeq9-p1cl"
      },
      "execution_count": null,
      "outputs": []
    },
    {
      "cell_type": "code",
      "source": [
        "#Percentage of Review sentiments\n",
        "user_review_copy['Sentiment'].value_counts().plot(kind='pie', explode= (0.1,0.1,0.1), shadow=True, autopct='%1.2f%%', pctdistance=1.1, labeldistance=1.5)\n"
      ],
      "metadata": {
        "id": "_cEukAiiCTej"
      },
      "execution_count": null,
      "outputs": []
    },
    {
      "cell_type": "markdown",
      "source": [
        "##### 1. Why did you pick the specific chart?"
      ],
      "metadata": {
        "id": "E6MkPsBcp1cl"
      }
    },
    {
      "cell_type": "markdown",
      "source": [
        "To plot the sentiment percentage analysis\n",
        "\n"
      ],
      "metadata": {
        "id": "V22bRsFWp1cl"
      }
    },
    {
      "cell_type": "markdown",
      "source": [
        "##### 2. What is/are the insight(s) found from the chart?"
      ],
      "metadata": {
        "id": "2cELzS2fp1cl"
      }
    },
    {
      "cell_type": "markdown",
      "source": [
        "Most of the sentiment is positive\n",
        "Users review apps based on thier own personal experience rather overall analogy"
      ],
      "metadata": {
        "id": "ozQPc2_Ip1cl"
      }
    },
    {
      "cell_type": "markdown",
      "source": [
        "##### 3. Will the gained insights help creating a positive business impact? \n",
        "Are there any insights that lead to negative growth? Justify with specific reason."
      ],
      "metadata": {
        "id": "3MPXvC8up1cl"
      }
    },
    {
      "cell_type": "markdown",
      "source": [
        "This definetly has hindrance on business growth, as most people think and behave in different ways\n",
        "\n"
      ],
      "metadata": {
        "id": "GL8l1tdLp1cl"
      }
    },
    {
      "cell_type": "markdown",
      "source": [
        "## **5. Solution to Business Objective**"
      ],
      "metadata": {
        "id": "JcMwzZxoAimU"
      }
    },
    {
      "cell_type": "markdown",
      "source": [
        "#### What do you suggest the client to achieve Business Objective ? \n",
        "Explain Briefly."
      ],
      "metadata": {
        "id": "8G2x9gOozGDZ"
      }
    },
    {
      "cell_type": "markdown",
      "source": [
        "In this project I analysed play store based on the data provided. The analysis done on given parameters would help client to enhance the properties of apps while launching , Most importantly provide a common ground to work on apps of different categories which need common updation. Initially me and my teammate focused more on cleaning and preparing the data for easy analysis that would help us get clear insights of playstore apps. After the analysis and plotting and working with data we would summarize our analysis to provide better and best results out of our work:\n",
        "\n",
        "Focusing on more updated and useful free apps becausee they are the most commonly used\n",
        "Regular updatation of existing apps, to attract more new users.\n",
        "There are some unexplored categories like event, beauty , art etc. Developing apps in these categories would be helpful foor users who have intrest in these areas.\n",
        "Providing good content in apps that would be a factor in increasing the app market.\n",
        "Users are more likely to have varying sentiments while using the app in each phase. So keeping the features that would be in favour of the majority of users is a factor that should have the focus."
      ],
      "metadata": {
        "id": "pASKb0qOza21"
      }
    },
    {
      "cell_type": "markdown",
      "source": [
        "# **Conclusion**"
      ],
      "metadata": {
        "id": "gCX9965dhzqZ"
      }
    },
    {
      "cell_type": "markdown",
      "source": [
        "Through exploratory data analysis we have observed some trends and have made some assumptions that might lead to app success among the users in the play store.\n",
        "\n",
        "• Percentage of free apps is ~92%\n",
        "\n",
        "• Percentage of apps with no age restrictions is ~82%\n",
        "\n",
        "• Most competitive category in paid and free: Family and Games\n",
        "\n",
        "• Family, Game and Tools are top three categories having 1906, 926 and 829 app count.\n",
        "\n",
        "• Apps having size less than 50 MB are 8783. 7749 Apps are having rating more than 4.0 including both type of apps.\n",
        "\n",
        "• Category with the highest average app installs: Game\n",
        "\n",
        "• Percentage of apps that are top rated is ~80%\n",
        "\n",
        "• There are 20 free apps that have been installed over a billion time\n",
        "\n",
        "• Category in which the paid apps have the highest average installation fee: Finance\n",
        "\n",
        "• The median size of all apps in the play store is 12 MB.\n",
        "\n",
        "• The apps whose size varies with device has the highest number average app installs.\n",
        "\n",
        "• The apps whose size is greater than 90 MB has the highest number of average user reviews, ie, they are more popular than the rest.\n",
        "\n",
        "• Overall sentiment count of merged dataset in which Positive sentiment count is 64%, Negative 22% and Neutral 13%.\n",
        "\n",
        "• Sentiment Polarity is not highly correlated with Sentiment Subjectivity"
      ],
      "metadata": {
        "id": "Fjb1IsQkh3yE"
      }
    },
    {
      "cell_type": "markdown",
      "source": [
        "### ***Hurrah! You have successfully completed your EDA Capstone Project !!!***"
      ],
      "metadata": {
        "id": "gIfDvo9L0UH2"
      }
    }
  ]
}